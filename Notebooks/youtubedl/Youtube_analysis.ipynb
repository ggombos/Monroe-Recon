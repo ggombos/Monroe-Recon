{
 "cells": [
  {
   "cell_type": "markdown",
   "metadata": {
    "extensions": {
     "jupyter_dashboards": {
      "version": 1,
      "views": {
       "grid_default": {
        "col": 0,
        "height": 5,
        "hidden": false,
        "row": 0,
        "width": 12
       },
       "report_default": {}
      }
     }
    }
   },
   "source": [
    "# Monroe-Recon Youtube Measurements"
   ]
  },
  {
   "cell_type": "code",
   "execution_count": 1,
   "metadata": {
    "extensions": {
     "jupyter_dashboards": {
      "version": 1,
      "views": {
       "grid_default": {
        "col": 0,
        "height": 536,
        "hidden": true,
        "row": 695,
        "width": 11
       },
       "report_default": {}
      }
     }
    },
    "scrolled": false
   },
   "outputs": [],
   "source": [
    "%matplotlib inline\n",
    "\n",
    " #https://jon.oberheide.org/blog/2008/10/15/dpkt-tutorial-2-parsing-a-pcap-file/\n",
    "\n",
    "import matplotlib.pyplot as plt\n",
    "from matplotlib.ticker import ScalarFormatter, FormatStrFormatter\n",
    "import matplotlib\n",
    "import pandas as pd\n",
    "import numpy as np\n",
    "import os\n",
    "import glob\n",
    "import dpkt\n",
    "import socket\n",
    "import sys\n",
    "import warnings\n",
    "warnings.filterwarnings('ignore')\n",
    "warnings.simplefilter('ignore')\n",
    "\n",
    "opIp = {}\n",
    "opName = {}\n",
    "nodes = {}\n",
    "operators = {}\n",
    "\n",
    "def plotPcapsResults(filename, op):\n",
    "    global opIp\n",
    "\n",
    "    f = filename.split(\"/\")\n",
    "    x = f[-1].split(\"_\")\n",
    "    nodeId = x[1]\n",
    "    interface = x[2]\n",
    "    if interface == 'eth0':\n",
    "        return\n",
    "    if op != '' and opName[nodeId][interface] != op:\n",
    "        return\n",
    "\n",
    "    f = open(filename, 'rb')\n",
    "    pcap = dpkt.pcap.Reader(f)\n",
    "    flows = {}\n",
    "    for ts, buf in pcap:\n",
    "        try:\n",
    "            eth = dpkt.ethernet.Ethernet(buf)\n",
    "            ip = eth.data\n",
    "            \n",
    "            if eth.type == dpkt.ethernet.ETH_TYPE_IP:\n",
    "                dst_ip_addr_str = socket.inet_ntoa(ip.dst) # will contain your destination IP address in BINARY\n",
    "                src_ip_addr_str = socket.inet_ntoa(ip.src) # will contain your destination IP address in BINARY\n",
    "\n",
    "                tcp = ip.data\n",
    "\n",
    "                src_port = \"0\"\n",
    "                dst_port = \"0\"\n",
    "\n",
    "                if not ip.p==dpkt.ip.IP_PROTO_TCP and not ip.p==dpkt.ip.IP_PROTO_UDP:\n",
    "                    continue\n",
    "                src_port = str(tcp.sport)\n",
    "                dst_port = str(tcp.dport)\n",
    "                \n",
    "                if dst_port == \"53\" or src_port == \"53\":\n",
    "                    continue\n",
    "                if dst_port == \"80\" or src_port == \"80\":\n",
    "                    continue\n",
    "\n",
    "                flowKey = src_ip_addr_str+\":\"+src_port+\":\"+dst_ip_addr_str+\":\"+dst_port\n",
    "\n",
    "                if not flowKey in flows.keys():\n",
    "                    flows[flowKey] = ([ts],[(len(tcp.data))*8.0/1000.0])\n",
    "                else:\n",
    "                    flows[flowKey][1].append(flows[flowKey][1][len(flows[flowKey][1])-1] + (len(tcp.data)*8.0/1000.0)) \n",
    "                    flows[flowKey][0].append(ts)\n",
    "        except:\n",
    "            pass\n",
    "\n",
    "    params = {'legend.fontsize': 'x-large',\n",
    "             'figure.figsize': (10, 5),\n",
    "            'axes.labelsize': 'x-large',\n",
    "            'axes.titlesize':'x-large',\n",
    "            'xtick.labelsize':'x-large',\n",
    "            'lines.markersize' : '10',\n",
    "            'lines.linewidth' : '2',\n",
    "            'ytick.labelsize':'x-large'}\n",
    "    plt.rcParams.update(params)\n",
    "\n",
    "    fig, ax = plt.subplots(figsize=(12, 12))\n",
    "    ax.set_axis_bgcolor(\"white\")\n",
    "\n",
    "    \n",
    "    baseTime = []\n",
    "    for f in flows.keys():\n",
    "        x = (flows[f][0],flows[f][1])\n",
    "        \n",
    "        empty = True\n",
    "        for k in x[1]:\n",
    "            if k>50:\n",
    "                empty=False\n",
    "                baseTime.append(min(x[0]))\n",
    "                break\n",
    "    labels = ['pop_short','pop_long','nonpop_short','nonpop_long']\n",
    "    color_dict = {'pop_short':'r','pop_long':'g','nonpop_short':'b','nonpop_long':'orange'}\n",
    "    label_dict = {}\n",
    "    for idx,t in enumerate(sorted(baseTime)):\n",
    "        label_dict[t] = labels[idx]\n",
    "      \n",
    "            \n",
    "    for f in flows.keys():\n",
    "        x = (flows[f][0],flows[f][1])\n",
    "        base = 0\n",
    "        if len(x[0])>0:\n",
    "            base = min(x[0])\n",
    "\n",
    "        x = ([c-base for c in x[0]],x[1])\n",
    "        \n",
    "        empty = True\n",
    "        for k in x[1]:\n",
    "            if k>50:\n",
    "                empty=False\n",
    "                break\n",
    "\n",
    "        if not empty:\n",
    "            l = label_dict[base]\n",
    "            plt.plot(x[0],x[1],label=l,\n",
    "                     color=color_dict[label_dict[base]])\n",
    "    plt.xlabel(\"Timstamp\")\n",
    "    plt.ylabel(\"Packetsize\")\n",
    "    if opIp.has_key(nodeId) and opIp[nodeId].has_key(interface):\n",
    "        plt.title(nodeId+\" - \"+interface+\" (\"+opName[nodeId][interface]+\") - \"+opIp[nodeId][interface])\n",
    "    else:\n",
    "        plt.title(filename)\n",
    "    plt.grid(color='gray')\n",
    "    plt.legend()\n",
    "    #plt.savefig(nodeId+\"-\"+interface+\"-\"+opIp[nodeId][interface]+'.png', bbox_inches='tight')\n",
    "    plt.show()\n",
    "    \n",
    "\n",
    "    \n",
    "def readOpIp(runningId, filename):\n",
    "    global opIp\n",
    "    f = open(filename)\n",
    "    for l in f.readlines():\n",
    "        l = l.strip()\n",
    "        if 'downloaded on' in l:\n",
    "            x = l.split()\n",
    "            nodeId = x[5]\n",
    "            op = x[7]\n",
    "            opN = x[8]\n",
    "            ip = x[10]\n",
    "            if '2018' in x[0]:\n",
    "                nodeId = x[6]\n",
    "                op = x[8]\n",
    "                opN = x[9]\n",
    "                ip = x[11]\n",
    "            if not opIp.has_key(nodeId):\n",
    "                opIp[nodeId] = {}\n",
    "                opName[nodeId] = {}\n",
    "            if opIp[nodeId].has_key(op) and opIp[nodeId][op] != ip:\n",
    "                print \"!!!!!!!!!!!!!!!WARNING!!!!!!!!!!!!!\"\n",
    "            opIp[nodeId][op] = ip\n",
    "            opIp[nodeId][ip] = op\n",
    "            opName[nodeId][op] = opN\n",
    "            if nodes.has_key(nodeId) and nodes[nodeId] != runningId:\n",
    "                print \"Multiple Running id for \",nodeId,\":\",nodes[nodeId],runningId\n",
    "            nodes[nodeId] = runningId\n",
    "            if not operators.has_key(opN):\n",
    "                operators[opN] = set()\n",
    "            operators[opN].add(runningId)\n",
    "\n",
    "\n",
    "\n",
    "\n",
    "\n",
    "\n",
    "baseFolder = \".\"\n",
    "\n",
    "\n",
    "def plotOrInit(folders=os.listdir(baseFolder), plot=True, op=''):\n",
    "    for nodeFolder in folders:\n",
    "        if not plot:\n",
    "            nodeFolder = baseFolder+\"/\"+nodeFolder\n",
    "        if nodeFolder == '.ipynb_checkpoints':\n",
    "            continue\n",
    "        pcaps = glob.glob(nodeFolder+\"/*.pcap\")\n",
    "        readOpIp(nodeFolder, nodeFolder+\"/container.log\")\n",
    "        for p in pcaps:\n",
    "            try:\n",
    "                if plot:\n",
    "                    plotPcapsResults(p,op)\n",
    "                else:\n",
    "                    pass\n",
    "            except:\n",
    "                pass\n",
    "    \n",
    "baseFolder = \"/home/monroe_node/dashboards/youtube/youtubePcaps\"\n",
    "plotOrInit(folders=os.listdir(baseFolder), plot=False)\n",
    "    \n",
    "\n"
   ]
  },
  {
   "cell_type": "code",
   "execution_count": 12,
   "metadata": {
    "extensions": {
     "jupyter_dashboards": {
      "version": 1,
      "views": {
       "grid_default": {
        "col": 0,
        "height": 91,
        "hidden": false,
        "row": 5,
        "width": 6
       },
       "report_default": {}
      }
     }
    },
    "scrolled": false
   },
   "outputs": [
    {
     "data": {
      "application/vnd.jupyter.widget-view+json": {
       "model_id": "1390d3e42034475f8368099edd99aa59"
      }
     },
     "metadata": {},
     "output_type": "display_data"
    },
    {
     "data": {
      "application/vnd.jupyter.widget-view+json": {
       "model_id": "7268a793d84742b4ac762118347b9164"
      }
     },
     "metadata": {},
     "output_type": "display_data"
    }
   ],
   "source": [
    "%matplotlib inline\n",
    "import seaborn as sns\n",
    "from ipywidgets import interactive\n",
    "from ipywidgets import HTML\n",
    "from IPython.display import display\n",
    "\n",
    "\n",
    "f = HTML(\"<h2>Plot in progress....<h2>\")\n",
    "display(f)\n",
    "\n",
    "\n",
    "def pl(NodeId):\n",
    "    f.value = \"<h2>Plot in progress....<h2>\"\n",
    "    plotOrInit(folders=[nodes[NodeId]])\n",
    "    f.value = \"\"\n",
    "\n",
    "i= interactive(pl, NodeId=nodes.keys())\n",
    "display(i)\n",
    "\n"
   ]
  },
  {
   "cell_type": "code",
   "execution_count": 3,
   "metadata": {
    "extensions": {
     "jupyter_dashboards": {
      "version": 1,
      "views": {
       "grid_default": {
        "col": 6,
        "height": 91,
        "hidden": false,
        "row": 5,
        "width": 6
       },
       "report_default": {}
      }
     }
    },
    "scrolled": false
   },
   "outputs": [
    {
     "data": {
      "application/vnd.jupyter.widget-view+json": {
       "model_id": "43fdec7508c04a60909422e8d649b424"
      }
     },
     "metadata": {},
     "output_type": "display_data"
    },
    {
     "data": {
      "application/vnd.jupyter.widget-view+json": {
       "model_id": "e456fb31d58e46eebde421a52d499765"
      }
     },
     "metadata": {},
     "output_type": "display_data"
    },
    {
     "data": {
      "text/plain": [
       "<function __main__.plot>"
      ]
     },
     "execution_count": 3,
     "metadata": {},
     "output_type": "execute_result"
    }
   ],
   "source": [
    "f2 = HTML(\"<h2>Plot in progress....<h2>\")\n",
    "display(f2)\n",
    "\n",
    "def pl2(Operator):\n",
    "#    print operators[Operator]\n",
    "    f2.value = \"<h2>Plot in progress....<h2>\"\n",
    "    plotOrInit(folders=operators[Operator],op=Operator)\n",
    "    f2.value = \"\"\n",
    "\n",
    "i2 = interactive(pl2, Operator=operators.keys())\n",
    "display(i2)\n"
   ]
  },
  {
   "cell_type": "code",
   "execution_count": null,
   "metadata": {
    "collapsed": true,
    "extensions": {
     "jupyter_dashboards": {
      "version": 1,
      "views": {
       "grid_default": {
        "hidden": true
       },
       "report_default": {}
      }
     }
    }
   },
   "outputs": [],
   "source": []
  }
 ],
 "metadata": {
  "extensions": {
   "jupyter_dashboards": {
    "activeView": "grid_default",
    "version": 1,
    "views": {
     "grid_default": {
      "cellMargin": 10,
      "defaultCellHeight": 20,
      "maxColumns": 12,
      "name": "grid",
      "type": "grid"
     },
     "report_default": {
      "name": "report",
      "type": "report"
     }
    }
   }
  },
  "kernelspec": {
   "display_name": "Python 2",
   "language": "python",
   "name": "python2"
  },
  "language_info": {
   "codemirror_mode": {
    "name": "ipython",
    "version": 2
   },
   "file_extension": ".py",
   "mimetype": "text/x-python",
   "name": "python",
   "nbconvert_exporter": "python",
   "pygments_lexer": "ipython2",
   "version": "2.7.6"
  }
 },
 "nbformat": 4,
 "nbformat_minor": 2
}
